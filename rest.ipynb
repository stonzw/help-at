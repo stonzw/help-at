{
 "cells": [
  {
   "cell_type": "code",
   "execution_count": 1,
   "metadata": {},
   "outputs": [],
   "source": [
    "import requests\n",
    "import json"
   ]
  },
  {
   "cell_type": "markdown",
   "metadata": {},
   "source": [
    "## 会社を生成"
   ]
  },
  {
   "cell_type": "code",
   "execution_count": 5,
   "metadata": {},
   "outputs": [],
   "source": [
    "company_res = requests.post('http://localhost:3000/companies',json={'name': 'ヘルプ株式会社'})"
   ]
  },
  {
   "cell_type": "code",
   "execution_count": 6,
   "metadata": {},
   "outputs": [],
   "source": [
    "assert company_res.status_code == 201"
   ]
  },
  {
   "cell_type": "code",
   "execution_count": 7,
   "metadata": {},
   "outputs": [],
   "source": [
    "depart_res = requests.post('http://localhost:3000/departments',json={'name': '役員', 'company_id': company_res.json()['id']})"
   ]
  },
  {
   "cell_type": "code",
   "execution_count": 8,
   "metadata": {},
   "outputs": [],
   "source": [
    "assert depart_res.status_code == 201"
   ]
  },
  {
   "cell_type": "code",
   "execution_count": 2,
   "metadata": {},
   "outputs": [],
   "source": [
    "system_admin_email = 'example33@example.com'\n",
    "system_admin_passwd = 'p@ssword'"
   ]
  },
  {
   "cell_type": "markdown",
   "metadata": {},
   "source": [
    "## システム管理者アカウント作成"
   ]
  },
  {
   "cell_type": "code",
   "execution_count": 10,
   "metadata": {},
   "outputs": [],
   "source": [
    "res = requests.post('http://localhost:3000/auth',json={\n",
    "    'email': system_admin_email,\n",
    "    'password': system_admin_passwd,\n",
    "    'password_confirmation': system_admin_passwd\n",
    "})"
   ]
  },
  {
   "cell_type": "code",
   "execution_count": 11,
   "metadata": {},
   "outputs": [
    {
     "data": {
      "text/plain": [
       "1"
      ]
     },
     "execution_count": 11,
     "metadata": {},
     "output_type": "execute_result"
    }
   ],
   "source": [
    "res.json()['data']['id']"
   ]
  },
  {
   "cell_type": "code",
   "execution_count": 12,
   "metadata": {},
   "outputs": [],
   "source": [
    "system_admin_res = requests.post('http://localhost:3000/user_infos',json={\n",
    "    'department_id': depart_res.json()['id'],\n",
    "    'company_id': company_res.json()['id'],\n",
    "    'user_id': res.json()['data']['id'],\n",
    "    'role': 'system_admin'\n",
    "})"
   ]
  },
  {
   "cell_type": "code",
   "execution_count": 13,
   "metadata": {},
   "outputs": [
    {
     "data": {
      "text/plain": [
       "1"
      ]
     },
     "execution_count": 13,
     "metadata": {},
     "output_type": "execute_result"
    }
   ],
   "source": [
    "depart_res.json()['id']"
   ]
  },
  {
   "cell_type": "code",
   "execution_count": 14,
   "metadata": {},
   "outputs": [
    {
     "data": {
      "text/plain": [
       "1"
      ]
     },
     "execution_count": 14,
     "metadata": {},
     "output_type": "execute_result"
    }
   ],
   "source": [
    "company_res.json()['id']"
   ]
  },
  {
   "cell_type": "code",
   "execution_count": 15,
   "metadata": {},
   "outputs": [],
   "source": [
    "assert system_admin_res.status_code == 201"
   ]
  },
  {
   "cell_type": "code",
   "execution_count": 16,
   "metadata": {},
   "outputs": [],
   "source": [
    "res = requests.post('http://localhost:3000/auth',json={\n",
    "    'email': 'hoge@example.com',\n",
    "    'password': 'pass',\n",
    "    'password_confirmation': 'pass'\n",
    "})\n",
    "admin_res = requests.post('http://localhost:3000/user_infos',json={\n",
    "    'department_id': depart_res.json()['id'],\n",
    "    'company_id': company_res.json()['id'],\n",
    "    'user_id': res.json()['data']['id'],\n",
    "    'role': 'system_admin'\n",
    "})"
   ]
  },
  {
   "cell_type": "code",
   "execution_count": 17,
   "metadata": {},
   "outputs": [],
   "source": [
    "assert admin_res.status_code == 403"
   ]
  },
  {
   "cell_type": "code",
   "execution_count": 18,
   "metadata": {},
   "outputs": [
    {
     "data": {
      "text/plain": [
       "<Response [403]>"
      ]
     },
     "execution_count": 18,
     "metadata": {},
     "output_type": "execute_result"
    }
   ],
   "source": [
    "admin_res"
   ]
  },
  {
   "cell_type": "code",
   "execution_count": null,
   "metadata": {},
   "outputs": [],
   "source": []
  },
  {
   "cell_type": "markdown",
   "metadata": {},
   "source": [
    "## ログイン"
   ]
  },
  {
   "cell_type": "code",
   "execution_count": 3,
   "metadata": {},
   "outputs": [],
   "source": [
    "system_admin_login_res = requests.post('http://localhost:3000/auth/sign_in',json={\n",
    "    'email': system_admin_email,\n",
    "    'password': system_admin_passwd\n",
    "})"
   ]
  },
  {
   "cell_type": "code",
   "execution_count": 4,
   "metadata": {},
   "outputs": [
    {
     "data": {
      "text/plain": [
       "{'data': {'id': 1,\n",
       "  'email': 'example33@example.com',\n",
       "  'provider': 'email',\n",
       "  'uid': 'example33@example.com',\n",
       "  'allow_password_change': False,\n",
       "  'name': None,\n",
       "  'nickname': None,\n",
       "  'image': None}}"
      ]
     },
     "execution_count": 4,
     "metadata": {},
     "output_type": "execute_result"
    }
   ],
   "source": [
    "system_admin_login_res.json()"
   ]
  },
  {
   "cell_type": "code",
   "execution_count": 5,
   "metadata": {},
   "outputs": [],
   "source": [
    "system_admin_login_headers = {x:system_admin_login_res.headers[x] for x in ['client', 'access-token', 'uid']}"
   ]
  },
  {
   "cell_type": "code",
   "execution_count": 111,
   "metadata": {},
   "outputs": [
    {
     "data": {
      "text/plain": [
       "[{'id': 7,\n",
       "  'user_id': 3,\n",
       "  'genre_id': 1,\n",
       "  'created_at': '2020-03-21T15:43:33.244Z',\n",
       "  'updated_at': '2020-03-21T15:43:33.244Z',\n",
       "  'image_url': 'https://help-api.storage.googleapis.com/help/v1/5fb336de380b37c1605a42ff1ec521ae.jpg',\n",
       "  'company_id': 1},\n",
       " {'id': 8,\n",
       "  'user_id': 3,\n",
       "  'genre_id': 1,\n",
       "  'created_at': '2020-03-21T15:50:44.226Z',\n",
       "  'updated_at': '2020-03-21T15:50:44.226Z',\n",
       "  'image_url': 'https://help-api.storage.googleapis.com/help/v1/a9d5608105870585967fa5406bc6d2a6.jpg',\n",
       "  'company_id': 1},\n",
       " {'id': 9,\n",
       "  'user_id': 1,\n",
       "  'genre_id': 1,\n",
       "  'created_at': '2020-03-21T17:18:04.291Z',\n",
       "  'updated_at': '2020-03-21T17:18:04.291Z',\n",
       "  'image_url': 'https://help-api.storage.googleapis.com/help/v1/acc225e2b36c996ee9e0e5122f7f3715.jpg',\n",
       "  'company_id': 1},\n",
       " {'id': 10,\n",
       "  'user_id': 1,\n",
       "  'genre_id': 1,\n",
       "  'created_at': '2020-03-21T17:22:01.723Z',\n",
       "  'updated_at': '2020-03-21T17:22:01.723Z',\n",
       "  'image_url': 'https://help-api.storage.googleapis.com/help/v1/0bb3fccea586bb451c0c0f0c836ac83c.jpg',\n",
       "  'company_id': 1},\n",
       " {'id': 11,\n",
       "  'user_id': 1,\n",
       "  'genre_id': 1,\n",
       "  'created_at': '2020-03-21T17:23:09.666Z',\n",
       "  'updated_at': '2020-03-21T17:23:09.666Z',\n",
       "  'image_url': 'https://help-api.storage.googleapis.com/help/v1/c30a461b3b4973f84a1da8f547ecd8ea.jpg',\n",
       "  'company_id': 1},\n",
       " {'id': 12,\n",
       "  'user_id': 1,\n",
       "  'genre_id': 1,\n",
       "  'created_at': '2020-03-21T17:23:50.257Z',\n",
       "  'updated_at': '2020-03-21T17:23:50.257Z',\n",
       "  'image_url': 'https://help-api.storage.googleapis.com/help/v1/fab4f63ca411efbaf06324ac1901914c.jpg',\n",
       "  'company_id': 1},\n",
       " {'id': 13,\n",
       "  'user_id': 1,\n",
       "  'genre_id': 1,\n",
       "  'created_at': '2020-03-21T17:27:23.521Z',\n",
       "  'updated_at': '2020-03-21T17:27:23.521Z',\n",
       "  'image_url': 'https://help-api.storage.googleapis.com/help/v1/9514e4775726f43e0ef9c3261ca5f844.jpg',\n",
       "  'company_id': 1},\n",
       " {'id': 14,\n",
       "  'user_id': 1,\n",
       "  'genre_id': 1,\n",
       "  'created_at': '2020-03-22T01:30:34.157Z',\n",
       "  'updated_at': '2020-03-22T01:30:34.157Z',\n",
       "  'image_url': 'https://help-api.storage.googleapis.com/help/v1/3f4bec18fab246673b49b5180bc89829.jpg',\n",
       "  'company_id': 1},\n",
       " {'id': 15,\n",
       "  'user_id': 1,\n",
       "  'genre_id': 1,\n",
       "  'created_at': '2020-03-22T02:41:07.421Z',\n",
       "  'updated_at': '2020-03-22T02:41:07.421Z',\n",
       "  'image_url': 'https://help-api.storage.googleapis.com/help/v1/22a0bb1b564cc76353ebb8cba1fd3772.jpg',\n",
       "  'company_id': 1},\n",
       " {'id': 16,\n",
       "  'user_id': 1,\n",
       "  'genre_id': 1,\n",
       "  'created_at': '2020-03-22T02:44:03.125Z',\n",
       "  'updated_at': '2020-03-22T02:44:03.125Z',\n",
       "  'image_url': 'https://help-api.storage.googleapis.com/help/v1/1ff1f2bd93948aba6851fd051bbe27cc.jpg',\n",
       "  'company_id': 1},\n",
       " {'id': 17,\n",
       "  'user_id': 1,\n",
       "  'genre_id': 1,\n",
       "  'created_at': '2020-03-22T02:47:29.997Z',\n",
       "  'updated_at': '2020-03-22T02:47:29.997Z',\n",
       "  'image_url': 'https://help-api.storage.googleapis.com/help/v1/635b477116208bf4eec5e1c47a595124.jpg',\n",
       "  'company_id': 1},\n",
       " {'id': 18,\n",
       "  'user_id': 1,\n",
       "  'genre_id': 1,\n",
       "  'created_at': '2020-03-22T03:25:46.108Z',\n",
       "  'updated_at': '2020-03-22T03:25:46.108Z',\n",
       "  'image_url': 'https://help-api.storage.googleapis.com/help/v1/bfaaae472835c35cb556674878249729.svg',\n",
       "  'company_id': 1},\n",
       " {'id': 19,\n",
       "  'user_id': 1,\n",
       "  'genre_id': 2,\n",
       "  'created_at': '2020-03-22T03:28:46.337Z',\n",
       "  'updated_at': '2020-03-22T03:28:46.337Z',\n",
       "  'image_url': 'https://help-api.storage.googleapis.com/help/v1/fe9c668ea7aa5bc2b5edeb39229f80a5.svg',\n",
       "  'company_id': 1},\n",
       " {'id': 20,\n",
       "  'user_id': 1,\n",
       "  'genre_id': 1,\n",
       "  'created_at': '2020-03-22T03:33:17.411Z',\n",
       "  'updated_at': '2020-03-22T03:33:17.411Z',\n",
       "  'image_url': 'https://help-api.storage.googleapis.com/help/v1/5b6f53cd081155dce1cc9724e8e296c2.svg',\n",
       "  'company_id': 1},\n",
       " {'id': 21,\n",
       "  'user_id': 1,\n",
       "  'genre_id': 2,\n",
       "  'created_at': '2020-03-22T03:46:52.629Z',\n",
       "  'updated_at': '2020-03-22T03:46:52.629Z',\n",
       "  'image_url': 'https://help-api.storage.googleapis.com/help/v1/ff2f8aa293e4e09bc8d5d3afb9c0f98c.svg',\n",
       "  'company_id': 1},\n",
       " {'id': 22,\n",
       "  'user_id': 1,\n",
       "  'genre_id': 1,\n",
       "  'created_at': '2020-03-22T04:00:55.448Z',\n",
       "  'updated_at': '2020-03-22T04:00:55.448Z',\n",
       "  'image_url': 'https://help-api.storage.googleapis.com/help/v1/094ce3fe40077b48bf6ff28428524cca.svg',\n",
       "  'company_id': 1},\n",
       " {'id': 23,\n",
       "  'user_id': 1,\n",
       "  'genre_id': 2,\n",
       "  'created_at': '2020-03-22T04:03:41.816Z',\n",
       "  'updated_at': '2020-03-22T04:03:41.816Z',\n",
       "  'image_url': 'https://help-api.storage.googleapis.com/help/v1/9cca4b7f1f9b24c1eaad4ce273342abb.svg',\n",
       "  'company_id': 1}]"
      ]
     },
     "execution_count": 111,
     "metadata": {},
     "output_type": "execute_result"
    }
   ],
   "source": [
    "res = requests.get('http://localhost:3000/search-problem?company_id=1', headers=system_admin_login_headers)\n",
    "res.json()"
   ]
  },
  {
   "cell_type": "markdown",
   "metadata": {},
   "source": [
    "## 管理者ユーザー作成"
   ]
  },
  {
   "cell_type": "code",
   "execution_count": 22,
   "metadata": {},
   "outputs": [],
   "source": [
    "admin_email = 'example@example.com'\n",
    "admin_password = 'ex@mple'"
   ]
  },
  {
   "cell_type": "code",
   "execution_count": 23,
   "metadata": {},
   "outputs": [],
   "source": [
    "res = requests.post('http://localhost:3000/auth',json={\n",
    "    'email': admin_email,\n",
    "    'password': admin_password,\n",
    "    'password_confirmation': admin_password\n",
    "})"
   ]
  },
  {
   "cell_type": "code",
   "execution_count": 24,
   "metadata": {},
   "outputs": [],
   "source": [
    "admin_res = requests.post('http://localhost:3000/user_infos',json={\n",
    "    'department_id': depart_res.json()['id'],\n",
    "    'company_id': company_res.json()['id'],\n",
    "    'user_id': res.json()['data']['id'],\n",
    "    'role': 'admin'\n",
    "},headers=system_admin_login_headers)"
   ]
  },
  {
   "cell_type": "code",
   "execution_count": 25,
   "metadata": {},
   "outputs": [],
   "source": [
    "show_admin_infos_res = requests.get(\n",
    "    'http://localhost:3000/user_infos/%s' % admin_res.json()['id'],\n",
    ")\n",
    "assert show_admin_infos_res.status_code == 403"
   ]
  },
  {
   "cell_type": "code",
   "execution_count": 26,
   "metadata": {},
   "outputs": [],
   "source": [
    "show_admin_infos_res = requests.get(\n",
    "    'http://localhost:3000/user_infos/%s' % admin_res.json()['id'],\n",
    "    headers=system_admin_login_headers\n",
    ")\n",
    "assert show_admin_infos_res.status_code == 200"
   ]
  },
  {
   "cell_type": "code",
   "execution_count": 27,
   "metadata": {},
   "outputs": [],
   "source": [
    "assert admin_res.status_code == 201"
   ]
  },
  {
   "cell_type": "code",
   "execution_count": 28,
   "metadata": {},
   "outputs": [],
   "source": [
    "admin_login_res = requests.post('http://localhost:3000/auth/sign_in',json={\n",
    "    'email': admin_email,\n",
    "    'password': admin_password,\n",
    "    'password_confirmation': admin_password,\n",
    "})"
   ]
  },
  {
   "cell_type": "code",
   "execution_count": 29,
   "metadata": {},
   "outputs": [],
   "source": [
    "admin_login_headers = {x:admin_login_res.headers[x] for x in ['client', 'access-token', 'uid']}"
   ]
  },
  {
   "cell_type": "code",
   "execution_count": null,
   "metadata": {},
   "outputs": [],
   "source": []
  },
  {
   "cell_type": "markdown",
   "metadata": {},
   "source": [
    "## 管理者ユーザーが同じ会社のユーザーを作成する"
   ]
  },
  {
   "cell_type": "code",
   "execution_count": 10,
   "metadata": {},
   "outputs": [],
   "source": [
    "normal_email = \"example11@example.com\"\n",
    "normal_pass = \"example11@\""
   ]
  },
  {
   "cell_type": "code",
   "execution_count": 36,
   "metadata": {},
   "outputs": [],
   "source": [
    "res = requests.post('http://localhost:3000/auth',json={\n",
    "    'email': normal_email,\n",
    "    'password': normal_pass,\n",
    "    'password_confirmation': normal_pass\n",
    "})"
   ]
  },
  {
   "cell_type": "code",
   "execution_count": 37,
   "metadata": {},
   "outputs": [],
   "source": [
    "normal_res = requests.post('http://localhost:3000/user_infos',json={\n",
    "    'department_id': depart_res.json()['id'],\n",
    "    'company_id': company_res.json()['id'],\n",
    "    'user_id': res.json()['data']['id'],\n",
    "    'role': 'admin'\n",
    "},headers=admin_login_headers)"
   ]
  },
  {
   "cell_type": "code",
   "execution_count": 11,
   "metadata": {},
   "outputs": [],
   "source": [
    "normal_login_res = requests.post('http://localhost:3000/auth/sign_in',json={\n",
    "    'email': normal_email,\n",
    "    'password': normal_pass\n",
    "})"
   ]
  },
  {
   "cell_type": "code",
   "execution_count": 12,
   "metadata": {},
   "outputs": [],
   "source": [
    "normal_login_headers = {x:normal_login_res.headers[x] for x in ['client', 'access-token', 'uid']}"
   ]
  },
  {
   "cell_type": "code",
   "execution_count": 14,
   "metadata": {},
   "outputs": [],
   "source": [
    "assert normal_login_res.status_code == 200"
   ]
  },
  {
   "cell_type": "code",
   "execution_count": null,
   "metadata": {},
   "outputs": [],
   "source": []
  },
  {
   "cell_type": "markdown",
   "metadata": {},
   "source": [
    "## 管理者ユーザーが違う会社のユーザーを作成すると失敗する"
   ]
  },
  {
   "cell_type": "code",
   "execution_count": 37,
   "metadata": {},
   "outputs": [],
   "source": [
    "other_company_res = requests.post('http://localhost:3000/companies',json={'name': 'アザー株式会社'})"
   ]
  },
  {
   "cell_type": "code",
   "execution_count": 38,
   "metadata": {},
   "outputs": [],
   "source": [
    "res = requests.post('http://localhost:3000/auth',json={\n",
    "    'email': \"example13@example.com\",\n",
    "    'password': \"example13@\",\n",
    "    'password_confirmation': \"example13@\"\n",
    "})"
   ]
  },
  {
   "cell_type": "code",
   "execution_count": null,
   "metadata": {},
   "outputs": [],
   "source": []
  },
  {
   "cell_type": "code",
   "execution_count": 40,
   "metadata": {},
   "outputs": [],
   "source": [
    "other_res = requests.post('http://localhost:3000/user_infos',json={\n",
    "    'department_id': depart_res.json()['id'],\n",
    "    'company_id': other_company_res.json()['id'],\n",
    "    'user_id': res.json()['data']['id'],\n",
    "    'role': 'admin'\n",
    "},headers=admin_login_headers)"
   ]
  },
  {
   "cell_type": "code",
   "execution_count": null,
   "metadata": {},
   "outputs": [],
   "source": []
  },
  {
   "cell_type": "code",
   "execution_count": 41,
   "metadata": {},
   "outputs": [],
   "source": [
    "assert other_res.status_code == 403"
   ]
  },
  {
   "cell_type": "markdown",
   "metadata": {},
   "source": [
    "## 管理者ユーザーがユーザーの会社を変えると失敗する"
   ]
  },
  {
   "cell_type": "code",
   "execution_count": 42,
   "metadata": {},
   "outputs": [],
   "source": [
    "other_res = requests.put('http://localhost:3000/user_infos/%s' % normal_res.json()['id'],json={\n",
    "    'department_id': depart_res.json()['id'],\n",
    "    'company_id': 5,\n",
    "    'user_id': normal_res.json()['user_id'],\n",
    "    'role': 'admin'\n",
    "},headers=admin_login_headers)"
   ]
  },
  {
   "cell_type": "code",
   "execution_count": 43,
   "metadata": {},
   "outputs": [
    {
     "data": {
      "text/plain": [
       "<Response [403]>"
      ]
     },
     "execution_count": 43,
     "metadata": {},
     "output_type": "execute_result"
    }
   ],
   "source": [
    "other_res"
   ]
  },
  {
   "cell_type": "code",
   "execution_count": 44,
   "metadata": {},
   "outputs": [],
   "source": [
    "assert other_res.status_code == 403"
   ]
  },
  {
   "cell_type": "code",
   "execution_count": 45,
   "metadata": {},
   "outputs": [
    {
     "data": {
      "text/plain": [
       "{'id': 3,\n",
       " 'company_id': 1,\n",
       " 'department_id': 1,\n",
       " 'user_id': 3,\n",
       " 'created_at': '2020-03-21T10:46:30.248Z',\n",
       " 'updated_at': '2020-03-21T10:46:30.248Z',\n",
       " 'role': 'admin',\n",
       " 'name': None}"
      ]
     },
     "execution_count": 45,
     "metadata": {},
     "output_type": "execute_result"
    }
   ],
   "source": [
    "normal_res.json()"
   ]
  },
  {
   "cell_type": "code",
   "execution_count": null,
   "metadata": {},
   "outputs": [],
   "source": []
  },
  {
   "cell_type": "markdown",
   "metadata": {},
   "source": [
    "## 管理者ユーザーが同じ会社のユーザーの部門を変える"
   ]
  },
  {
   "cell_type": "code",
   "execution_count": 46,
   "metadata": {},
   "outputs": [],
   "source": [
    "another_depart_res = requests.post('http://localhost:3000/departments',json={'name': 'アナザー', 'company_id': company_res.json()['id']})"
   ]
  },
  {
   "cell_type": "code",
   "execution_count": 47,
   "metadata": {},
   "outputs": [],
   "source": [
    "same_comp_res = requests.put('http://localhost:3000/user_infos/%s' % normal_res.json()['id'],json={\n",
    "    'department_id': another_depart_res.json()['id'],\n",
    "    'company_id': company_res.json()['id'],\n",
    "    'user_id': normal_res.json()['user_id'],\n",
    "    'role': 'admin'\n",
    "},headers=admin_login_headers)"
   ]
  },
  {
   "cell_type": "code",
   "execution_count": 48,
   "metadata": {},
   "outputs": [],
   "source": [
    "assert same_comp_res.status_code == 200"
   ]
  },
  {
   "cell_type": "code",
   "execution_count": null,
   "metadata": {},
   "outputs": [],
   "source": []
  },
  {
   "cell_type": "code",
   "execution_count": 65,
   "metadata": {},
   "outputs": [],
   "source": [
    "res = requests.post('http://localhost:3000/questions',\n",
    "json={\n",
    "    'answer_headline': '概要',\n",
    "    'enquete_headline': '20文字程度でどんな悩みか教えてください'\n",
    "},headers=system_admin_login_headers)\n",
    "assert res.status_code == 201"
   ]
  },
  {
   "cell_type": "code",
   "execution_count": null,
   "metadata": {},
   "outputs": [],
   "source": []
  },
  {
   "cell_type": "code",
   "execution_count": 66,
   "metadata": {},
   "outputs": [],
   "source": [
    "res = requests.post('http://localhost:3000/questions',\n",
    "json={\n",
    "    'answer_headline': '詳細',\n",
    "    'enquete_headline': 'もっと詳しく教えてください'\n",
    "},headers=system_admin_login_headers)\n",
    "assert res.status_code == 201"
   ]
  },
  {
   "cell_type": "code",
   "execution_count": 54,
   "metadata": {},
   "outputs": [],
   "source": [
    "res = requests.post('http://localhost:3000/genres',\n",
    "json={\n",
    "    'name': '人間関係',\n",
    "},headers=system_admin_login_headers)"
   ]
  },
  {
   "cell_type": "code",
   "execution_count": 55,
   "metadata": {},
   "outputs": [],
   "source": [
    "res = requests.post('http://localhost:3000/genres',\n",
    "json={\n",
    "    'name': '仕事',\n",
    "},headers=system_admin_login_headers)"
   ]
  },
  {
   "cell_type": "code",
   "execution_count": 56,
   "metadata": {},
   "outputs": [],
   "source": [
    "res = requests.post('http://localhost:3000/genres',\n",
    "json={\n",
    "    'name': '健康',\n",
    "},headers=system_admin_login_headers)"
   ]
  },
  {
   "cell_type": "code",
   "execution_count": 57,
   "metadata": {},
   "outputs": [],
   "source": [
    "#TODO: システム管理者以外はgenreを生成できない"
   ]
  },
  {
   "cell_type": "code",
   "execution_count": null,
   "metadata": {},
   "outputs": [],
   "source": []
  },
  {
   "cell_type": "code",
   "execution_count": 101,
   "metadata": {},
   "outputs": [],
   "source": [
    "res = requests.post('http://localhost:3000/problems',\n",
    "json={\n",
    "    'user_id': 3,\n",
    "    'genre_id': 1,\n",
    "    'base64_image': base64_str,\n",
    "    'company_id': company_res.json()['id']\n",
    "},headers=normal_login_headers)"
   ]
  },
  {
   "cell_type": "code",
   "execution_count": 100,
   "metadata": {},
   "outputs": [],
   "source": [
    "res = requests.post('http://localhost:3000/problems',\n",
    "json = {\n",
    "    \"user_id\": 1,\n",
    "    \"genre_id\":1,\n",
    "    \"base64_image\": \"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\",\n",
    "    \"company_id\": 1,\n",
    "},headers=system_admin_login_headers)"
   ]
  },
  {
   "cell_type": "code",
   "execution_count": 101,
   "metadata": {},
   "outputs": [
    {
     "data": {
      "text/plain": [
       "{'id': 20,\n",
       " 'user_id': 1,\n",
       " 'genre_id': 1,\n",
       " 'created_at': '2020-03-22T03:33:17.411Z',\n",
       " 'updated_at': '2020-03-22T03:33:17.411Z',\n",
       " 'image_url': 'https://help-api.storage.googleapis.com/help/v1/5b6f53cd081155dce1cc9724e8e296c2.svg',\n",
       " 'company_id': 1}"
      ]
     },
     "execution_count": 101,
     "metadata": {},
     "output_type": "execute_result"
    }
   ],
   "source": [
    "res.json()"
   ]
  },
  {
   "cell_type": "code",
   "execution_count": 8,
   "metadata": {},
   "outputs": [],
   "source": [
    "problem_id = res.json()['id']"
   ]
  },
  {
   "cell_type": "markdown",
   "metadata": {},
   "source": [
    "## 自身がproblemを見るとuser_idが付与されている"
   ]
  },
  {
   "cell_type": "code",
   "execution_count": 102,
   "metadata": {},
   "outputs": [],
   "source": [
    "res = requests.get('http://localhost:3000/problems/%s' % problem_id,headers=normal_login_headers)"
   ]
  },
  {
   "cell_type": "code",
   "execution_count": 103,
   "metadata": {},
   "outputs": [],
   "source": [
    "assert 'user_id' in res.json()"
   ]
  },
  {
   "cell_type": "code",
   "execution_count": 104,
   "metadata": {},
   "outputs": [
    {
     "data": {
      "text/plain": [
       "{'id': 14,\n",
       " 'user_id': 1,\n",
       " 'genre_id': 1,\n",
       " 'created_at': '2020-03-22T01:30:34.157Z',\n",
       " 'updated_at': '2020-03-22T01:30:34.157Z',\n",
       " 'image_url': 'https://help-api.storage.googleapis.com/help/v1/3f4bec18fab246673b49b5180bc89829.jpg',\n",
       " 'company_id': 1}"
      ]
     },
     "execution_count": 104,
     "metadata": {},
     "output_type": "execute_result"
    }
   ],
   "source": [
    "res.json()"
   ]
  },
  {
   "cell_type": "code",
   "execution_count": null,
   "metadata": {},
   "outputs": [],
   "source": []
  },
  {
   "cell_type": "markdown",
   "metadata": {},
   "source": [
    "## 他の社員がproblemを見るとuser_idが付与されていない"
   ]
  },
  {
   "cell_type": "code",
   "execution_count": null,
   "metadata": {},
   "outputs": [],
   "source": []
  },
  {
   "cell_type": "code",
   "execution_count": 24,
   "metadata": {},
   "outputs": [],
   "source": [
    "res = requests.get('http://localhost:3000/problems/%s' % problem_id,headers=normal2_login_headers)"
   ]
  },
  {
   "cell_type": "code",
   "execution_count": 25,
   "metadata": {},
   "outputs": [],
   "source": [
    "assert not 'user_id' in res.json()"
   ]
  },
  {
   "cell_type": "markdown",
   "metadata": {},
   "source": [
    "## 管理者がproblemを見るとuser_idが付与されている"
   ]
  },
  {
   "cell_type": "code",
   "execution_count": 115,
   "metadata": {},
   "outputs": [],
   "source": [
    "res = requests.get('http://localhost:3000/problems/%s' % problem_id,headers=admin_login_headers)"
   ]
  },
  {
   "cell_type": "code",
   "execution_count": 116,
   "metadata": {},
   "outputs": [],
   "source": [
    "assert 'user_id' in res.json()"
   ]
  },
  {
   "cell_type": "markdown",
   "metadata": {},
   "source": [
    "## 自身がanswerを検索するとuser_idが付与されている"
   ]
  },
  {
   "cell_type": "code",
   "execution_count": 98,
   "metadata": {},
   "outputs": [],
   "source": [
    "res = requests.get('http://localhost:3000/search-answer?company_id=1&problem_id=1',headers=normal_login_headers)\n",
    "assert res.status_code == 200\n",
    "for x in res.json():\n",
    "    assert 'user_id' in x"
   ]
  },
  {
   "cell_type": "markdown",
   "metadata": {},
   "source": [
    "## 他の社員がanswerを検索するとuser_idが付与されていない"
   ]
  },
  {
   "cell_type": "code",
   "execution_count": 99,
   "metadata": {},
   "outputs": [],
   "source": [
    "res = requests.get('http://localhost:3000/search-answer?company_id=1&problem_id=1',headers=normal2_login_headers)\n",
    "assert res.status_code == 200\n",
    "for x in res.json():\n",
    "    assert not 'user_id' in x"
   ]
  },
  {
   "cell_type": "code",
   "execution_count": 90,
   "metadata": {},
   "outputs": [],
   "source": []
  },
  {
   "cell_type": "code",
   "execution_count": 91,
   "metadata": {},
   "outputs": [],
   "source": []
  },
  {
   "cell_type": "code",
   "execution_count": 94,
   "metadata": {},
   "outputs": [
    {
     "data": {
      "text/plain": [
       "[{'id': 1,\n",
       "  'question_id': 1,\n",
       "  'user_id': 3,\n",
       "  'problem_id': 1,\n",
       "  'company_id': 1,\n",
       "  'department_id': 1,\n",
       "  'content': '体調が悪くて困っています',\n",
       "  'created_at': '2020-03-21T15:08:55.782Z',\n",
       "  'updated_at': '2020-03-21T15:08:55.782Z'},\n",
       " {'id': 2,\n",
       "  'question_id': 2,\n",
       "  'user_id': 3,\n",
       "  'problem_id': 1,\n",
       "  'company_id': 1,\n",
       "  'department_id': 1,\n",
       "  'content': '体調が悪くて困っています',\n",
       "  'created_at': '2020-03-21T15:10:27.532Z',\n",
       "  'updated_at': '2020-03-21T15:10:27.532Z'}]"
      ]
     },
     "execution_count": 94,
     "metadata": {},
     "output_type": "execute_result"
    }
   ],
   "source": [
    "res.json()"
   ]
  },
  {
   "cell_type": "code",
   "execution_count": null,
   "metadata": {},
   "outputs": [],
   "source": []
  },
  {
   "cell_type": "code",
   "execution_count": 59,
   "metadata": {},
   "outputs": [],
   "source": [
    "#TODO: 自身の悩みしか投稿できない"
   ]
  },
  {
   "cell_type": "code",
   "execution_count": 67,
   "metadata": {},
   "outputs": [],
   "source": [
    "res = requests.post('http://localhost:3000/answers',\n",
    "json={\n",
    "    'content': '体調が悪くて困っています',\n",
    "    'department_id': 1,\n",
    "    'company_id': 1,\n",
    "    'user_id': normal_login_res.json()['data']['id'],\n",
    "    'question_id': 1,\n",
    "    'problem_id': 1\n",
    "},headers=normal_login_headers)\n",
    "assert res.status_code == 201"
   ]
  },
  {
   "cell_type": "code",
   "execution_count": 69,
   "metadata": {},
   "outputs": [],
   "source": [
    "answer_res = requests.post('http://localhost:3000/answers',\n",
    "json={\n",
    "    'content': '体調が悪くて困っています',\n",
    "    'department_id': 1,\n",
    "    'company_id': 1,\n",
    "    'user_id': normal_login_res.json()['data']['id'],\n",
    "    'question_id': 2,\n",
    "    'problem_id': 1\n",
    "},headers=normal_login_headers)\n",
    "assert answer_res.status_code == 201"
   ]
  },
  {
   "cell_type": "code",
   "execution_count": null,
   "metadata": {},
   "outputs": [],
   "source": []
  },
  {
   "cell_type": "code",
   "execution_count": null,
   "metadata": {},
   "outputs": [],
   "source": []
  },
  {
   "cell_type": "code",
   "execution_count": null,
   "metadata": {},
   "outputs": [],
   "source": []
  },
  {
   "cell_type": "code",
   "execution_count": null,
   "metadata": {},
   "outputs": [],
   "source": []
  },
  {
   "cell_type": "code",
   "execution_count": null,
   "metadata": {},
   "outputs": [],
   "source": []
  },
  {
   "cell_type": "code",
   "execution_count": null,
   "metadata": {},
   "outputs": [],
   "source": []
  },
  {
   "cell_type": "code",
   "execution_count": null,
   "metadata": {},
   "outputs": [],
   "source": []
  },
  {
   "cell_type": "markdown",
   "metadata": {},
   "source": [
    "## 自身の質問のユーザーを確認できる"
   ]
  },
  {
   "cell_type": "code",
   "execution_count": 21,
   "metadata": {},
   "outputs": [
    {
     "ename": "NameError",
     "evalue": "name 'answer_res' is not defined",
     "output_type": "error",
     "traceback": [
      "\u001b[0;31m---------------------------------------------------------------------------\u001b[0m",
      "\u001b[0;31mNameError\u001b[0m                                 Traceback (most recent call last)",
      "\u001b[0;32m<ipython-input-21-ef7d1265fc7a>\u001b[0m in \u001b[0;36m<module>\u001b[0;34m\u001b[0m\n\u001b[0;32m----> 1\u001b[0;31m \u001b[0mres\u001b[0m \u001b[0;34m=\u001b[0m \u001b[0mrequests\u001b[0m\u001b[0;34m.\u001b[0m\u001b[0mget\u001b[0m\u001b[0;34m(\u001b[0m\u001b[0;34m'http://localhost:3000/answers/%s'\u001b[0m \u001b[0;34m%\u001b[0m \u001b[0manswer_res\u001b[0m\u001b[0;34m.\u001b[0m\u001b[0mjson\u001b[0m\u001b[0;34m(\u001b[0m\u001b[0;34m)\u001b[0m\u001b[0;34m[\u001b[0m\u001b[0;34m'user_id'\u001b[0m\u001b[0;34m]\u001b[0m\u001b[0;34m,\u001b[0m\u001b[0mheaders\u001b[0m\u001b[0;34m=\u001b[0m\u001b[0mnormal_login_headers\u001b[0m\u001b[0;34m)\u001b[0m\u001b[0;34m\u001b[0m\u001b[0;34m\u001b[0m\u001b[0m\n\u001b[0m\u001b[1;32m      2\u001b[0m \u001b[0;32massert\u001b[0m \u001b[0;34m'user_id'\u001b[0m \u001b[0;32min\u001b[0m \u001b[0mres\u001b[0m\u001b[0;34m.\u001b[0m\u001b[0mjson\u001b[0m\u001b[0;34m(\u001b[0m\u001b[0;34m)\u001b[0m\u001b[0;34m.\u001b[0m\u001b[0mkeys\u001b[0m\u001b[0;34m(\u001b[0m\u001b[0;34m)\u001b[0m\u001b[0;34m\u001b[0m\u001b[0;34m\u001b[0m\u001b[0m\n",
      "\u001b[0;31mNameError\u001b[0m: name 'answer_res' is not defined"
     ]
    }
   ],
   "source": [
    "res = requests.get('http://localhost:3000/answers/%s' % answer_res.json()['user_id'],headers=normal_login_headers)\n",
    "assert 'user_id' in res.json().keys()"
   ]
  },
  {
   "cell_type": "markdown",
   "metadata": {},
   "source": [
    "## ログインしていないユーザーは確認できない"
   ]
  },
  {
   "cell_type": "code",
   "execution_count": 101,
   "metadata": {},
   "outputs": [],
   "source": [
    "res = requests.get('http://localhost:3000/answers/%s' % answer_res.json()['user_id'])\n",
    "assert res.status_code == 403"
   ]
  },
  {
   "cell_type": "markdown",
   "metadata": {},
   "source": [
    "## 異なるユーザーは確認できない"
   ]
  },
  {
   "cell_type": "code",
   "execution_count": 16,
   "metadata": {},
   "outputs": [],
   "source": [
    "normal2_email = \"example112@example.com\"\n",
    "normal2_pass = \"example112@\""
   ]
  },
  {
   "cell_type": "code",
   "execution_count": 108,
   "metadata": {},
   "outputs": [],
   "source": [
    "\n",
    "res = requests.post('http://localhost:3000/auth',json={\n",
    "    'email': normal2_email,\n",
    "    'password': normal2_pass,\n",
    "    'password_confirmation': normal2_pass\n",
    "})\n",
    "normal2_res = requests.post('http://localhost:3000/user_infos',json={\n",
    "    'department_id': depart_res.json()['id'],\n",
    "    'company_id': company_res.json()['id'],\n",
    "    'user_id': res.json()['data']['id'],\n",
    "    'role': 'normal'\n",
    "},headers=admin_login_headers)"
   ]
  },
  {
   "cell_type": "code",
   "execution_count": 17,
   "metadata": {},
   "outputs": [],
   "source": [
    "normal2_login_res = requests.post('http://localhost:3000/auth/sign_in',json={\n",
    "    'email': normal2_email,\n",
    "    'password': normal2_pass\n",
    "})"
   ]
  },
  {
   "cell_type": "code",
   "execution_count": 18,
   "metadata": {},
   "outputs": [],
   "source": [
    "assert normal2_login_res.status_code == 200\n",
    "normal2_login_headers = {x:normal2_login_res.headers[x] for x in ['client', 'access-token', 'uid']}"
   ]
  },
  {
   "cell_type": "code",
   "execution_count": 19,
   "metadata": {},
   "outputs": [
    {
     "ename": "KeyError",
     "evalue": "'data'",
     "output_type": "error",
     "traceback": [
      "\u001b[0;31m---------------------------------------------------------------------------\u001b[0m",
      "\u001b[0;31mKeyError\u001b[0m                                  Traceback (most recent call last)",
      "\u001b[0;32m<ipython-input-19-a27dc644a722>\u001b[0m in \u001b[0;36m<module>\u001b[0;34m\u001b[0m\n\u001b[0;32m----> 1\u001b[0;31m \u001b[0mres\u001b[0m\u001b[0;34m.\u001b[0m\u001b[0mjson\u001b[0m\u001b[0;34m(\u001b[0m\u001b[0;34m)\u001b[0m\u001b[0;34m[\u001b[0m\u001b[0;34m'data'\u001b[0m\u001b[0;34m]\u001b[0m\u001b[0;34m[\u001b[0m\u001b[0;34m'id'\u001b[0m\u001b[0;34m]\u001b[0m\u001b[0;34m\u001b[0m\u001b[0;34m\u001b[0m\u001b[0m\n\u001b[0m",
      "\u001b[0;31mKeyError\u001b[0m: 'data'"
     ]
    }
   ],
   "source": [
    "res.json()['data']['id']"
   ]
  },
  {
   "cell_type": "code",
   "execution_count": 20,
   "metadata": {},
   "outputs": [
    {
     "ename": "NameError",
     "evalue": "name 'answer_res' is not defined",
     "output_type": "error",
     "traceback": [
      "\u001b[0;31m---------------------------------------------------------------------------\u001b[0m",
      "\u001b[0;31mNameError\u001b[0m                                 Traceback (most recent call last)",
      "\u001b[0;32m<ipython-input-20-f851ea4811f2>\u001b[0m in \u001b[0;36m<module>\u001b[0;34m\u001b[0m\n\u001b[0;32m----> 1\u001b[0;31m \u001b[0mres\u001b[0m \u001b[0;34m=\u001b[0m \u001b[0mrequests\u001b[0m\u001b[0;34m.\u001b[0m\u001b[0mget\u001b[0m\u001b[0;34m(\u001b[0m\u001b[0;34m'http://localhost:3000/answers/%s'\u001b[0m \u001b[0;34m%\u001b[0m \u001b[0manswer_res\u001b[0m\u001b[0;34m.\u001b[0m\u001b[0mjson\u001b[0m\u001b[0;34m(\u001b[0m\u001b[0;34m)\u001b[0m\u001b[0;34m[\u001b[0m\u001b[0;34m'user_id'\u001b[0m\u001b[0;34m]\u001b[0m\u001b[0;34m,\u001b[0m\u001b[0mheaders\u001b[0m\u001b[0;34m=\u001b[0m\u001b[0mnormal2_login_headers\u001b[0m\u001b[0;34m)\u001b[0m\u001b[0;34m\u001b[0m\u001b[0;34m\u001b[0m\u001b[0m\n\u001b[0m",
      "\u001b[0;31mNameError\u001b[0m: name 'answer_res' is not defined"
     ]
    }
   ],
   "source": [
    "res = requests.get('http://localhost:3000/answers/%s' % answer_res.json()['user_id'],headers=normal2_login_headers)"
   ]
  },
  {
   "cell_type": "code",
   "execution_count": 130,
   "metadata": {},
   "outputs": [],
   "source": [
    "assert res.status_code == 200"
   ]
  },
  {
   "cell_type": "code",
   "execution_count": 140,
   "metadata": {},
   "outputs": [],
   "source": [
    "assert 'id' in res.json()\n",
    "assert not 'user_id' in res.json()"
   ]
  },
  {
   "cell_type": "code",
   "execution_count": null,
   "metadata": {},
   "outputs": [],
   "source": []
  },
  {
   "cell_type": "markdown",
   "metadata": {},
   "source": [
    "## 全表示の権限確認"
   ]
  },
  {
   "cell_type": "code",
   "execution_count": 89,
   "metadata": {},
   "outputs": [],
   "source": [
    "res = requests.get('http://localhost:3000/answers/', headers=system_admin_login_headers)\n",
    "assert res.status_code == 200\n",
    "res = requests.get('http://localhost:3000/answers/', headers=admin_login_headers)\n",
    "assert res.status_code == 403"
   ]
  },
  {
   "cell_type": "code",
   "execution_count": null,
   "metadata": {},
   "outputs": [],
   "source": []
  },
  {
   "cell_type": "code",
   "execution_count": null,
   "metadata": {},
   "outputs": [],
   "source": []
  },
  {
   "cell_type": "code",
   "execution_count": null,
   "metadata": {},
   "outputs": [],
   "source": []
  },
  {
   "cell_type": "markdown",
   "metadata": {},
   "source": [
    "## パスワード変更"
   ]
  },
  {
   "cell_type": "code",
   "execution_count": 31,
   "metadata": {},
   "outputs": [],
   "source": [
    "res = requests.put('http://localhost:3000/auth/password',\n",
    "headers=login_headers,\n",
    "json={\n",
    "    'email': 'example@example.com',\n",
    "    'password': 'password1',\n",
    "    'password_confirmation': 'password1'\n",
    "})"
   ]
  },
  {
   "cell_type": "code",
   "execution_count": null,
   "metadata": {},
   "outputs": [],
   "source": []
  },
  {
   "cell_type": "markdown",
   "metadata": {},
   "source": [
    "## 会社を変更できないかを確認"
   ]
  },
  {
   "cell_type": "code",
   "execution_count": 46,
   "metadata": {},
   "outputs": [],
   "source": [
    "res = requests.put('http://localhost:3000/user_info/%s' % ,\n",
    "    json = {\n",
    "        'id': 2,\n",
    "        'role': 'normal',\n",
    "        'department_id': 1,\n",
    "        'company_id': 2,\n",
    "        'user_id': 1\n",
    "    }\n",
    ")"
   ]
  },
  {
   "cell_type": "code",
   "execution_count": 47,
   "metadata": {},
   "outputs": [
    {
     "data": {
      "text/plain": [
       "<Response [404]>"
      ]
     },
     "execution_count": 47,
     "metadata": {},
     "output_type": "execute_result"
    }
   ],
   "source": [
    "res"
   ]
  },
  {
   "cell_type": "code",
   "execution_count": 124,
   "metadata": {},
   "outputs": [
    {
     "data": {
      "text/plain": [
       "{'status': 403, 'message': 'Forbidden'}"
      ]
     },
     "execution_count": 124,
     "metadata": {},
     "output_type": "execute_result"
    }
   ],
   "source": [
    "res.json()"
   ]
  },
  {
   "cell_type": "code",
   "execution_count": null,
   "metadata": {},
   "outputs": [],
   "source": [
    "https://qiita.com/Masahiro_T/items/6bc49a625b437a7c2f45"
   ]
  },
  {
   "cell_type": "code",
   "execution_count": 70,
   "metadata": {},
   "outputs": [
    {
     "name": "stderr",
     "output_type": "stream",
     "text": [
      "/usr/local/lib/python3.7/site-packages/ipykernel_launcher.py:4: DeprecationWarning: encodestring() is a deprecated alias since 3.1, use encodebytes()\n",
      "  after removing the cwd from sys.path.\n"
     ]
    }
   ],
   "source": [
    "import base64\n",
    "\n",
    "img_file = '/Users/onosawa/Downloads/board-361516_640.jpg'\n",
    "b64 = base64.encodestring(open(img_file, 'rb').read())"
   ]
  },
  {
   "cell_type": "code",
   "execution_count": 71,
   "metadata": {},
   "outputs": [],
   "source": [
    "base64_str = b64.decode('utf8')"
   ]
  },
  {
   "cell_type": "code",
   "execution_count": null,
   "metadata": {},
   "outputs": [],
   "source": []
  },
  {
   "cell_type": "code",
   "execution_count": 94,
   "metadata": {},
   "outputs": [],
   "source": [
    "res = requests.post('http://localhost:3000/upload', json={'base64_image': base64_str}, headers=system_admin_login_headers)"
   ]
  },
  {
   "cell_type": "code",
   "execution_count": 95,
   "metadata": {},
   "outputs": [
    {
     "data": {
      "text/plain": [
       "{'status': 403, 'message': 'Forbidden'}"
      ]
     },
     "execution_count": 95,
     "metadata": {},
     "output_type": "execute_result"
    }
   ],
   "source": [
    "res.json()"
   ]
  },
  {
   "cell_type": "code",
   "execution_count": null,
   "metadata": {},
   "outputs": [],
   "source": []
  },
  {
   "cell_type": "markdown",
   "metadata": {},
   "source": [
    "rails g devise:install\n",
    "rails g devise user\n",
    "rails g scaffold department name:string company:references\n",
    "rails g scaffold company name:string\n",
    "rails g devise_token_auth:install User auth\n",
    "rails g scaffold department name:string company:references\n",
    "rails g scaffold user_info company:references department:references user:references name:string\n",
    "rails g scaffold problem user:references genre:references company:references\n",
    "rails g scaffold comment user:references problem:references content:string\n",
    "rails g scaffold enquete\n",
    "rails g scaffold question answer_headline:string enquete_headline:string\n",
    "rails g scaffold enquete_question enquete:references question:references\n",
    "rails g scaffold answer question:references user:references problem:references company:references department:references content:string\n",
    "rails db:migrate"
   ]
  },
  {
   "cell_type": "code",
   "execution_count": null,
   "metadata": {},
   "outputs": [],
   "source": [
    "298  gem install rails -v 5.1.6\n",
    "  299  sudo gem install rails -v 5.1.6\n",
    "  324  gem install rails -v 5.1.6\n",
    "  329  rails new help-api\n",
    "  337  rails server\n",
    "  340  rails new help-api --api\n",
    "  344  rails s\n",
    "  345  rails g scaffold company name:string\n",
    "  346  rails db:migrate\n",
    "  347  rails s\n",
    "  348  rails s\n",
    "  351  rails s\n",
    "  352  rails db:migrate:reset\n",
    "  353  rails s\n",
    "  354  rails g scaffold department name:string company:references\n",
    "  355  rails s\n",
    "  356  rails s\n",
    "  357  rails db:migrate\n",
    "  358  rails s\n",
    "  361  rails g devise:install\n",
    "  362  rails g devise user\n",
    "  363  rails db:migrate\n",
    "  364  rails s\n",
    "  365  rails g devise:controllers users\n",
    "  366  rails s\n",
    "  368  rails g devise:views\n",
    "  369  rails s\n",
    "  372  rails s\n",
    "  386  rails g scaffold company name:string\n",
    "  391  rails new help-api --api\n",
    "  394  rails g scaffold company name:string\n",
    "  399  rails new help-api\n",
    "  404  rails s\n",
    "  405  rails g scaffold company:name\n",
    "  406  rails g scaffold company name:string\n",
    "  407  rails g scaffold deppartment name:string\n",
    "  408  rails destroy scaffold department\n",
    "  409  rails g scaffold deppartment name:string company:references\n",
    "  411  rails g scaffold deppartment name:string company:references\n",
    "  412  rails g scaffold deppartment name:string company:references\n",
    "  413  rails s\n",
    "  414  rails db:migrate\n",
    "  415  rails s\n",
    "  455  rails g scaffold company:name\n",
    "  478  rails g scaffold company name:string\n",
    "  479  rails g scaffold deppartment name:string company:references\n",
    "  480  rails db:migrate\n",
    "  481  rails g devise_token_auth:install User auth\n",
    "  482  rails db:migrate\n",
    "  485  rails db:migrate\n",
    "  486  rails g devise_token_auth:install User auth\n",
    "  490  rails g devise_token_auth:install User auth\n",
    "  498  rails g devise_token_auth:install User auth\n",
    "  509  rails g devise:install\n",
    "  510  rails g devise_token_auth:install User auth\n",
    "  520  rails s\n",
    "  521  rails db:migrate\n",
    "  522  rails s\n",
    "  525  rails s\n",
    "  529  rails g scaffold user_info company:references depertment:references user:references\n",
    "  530  rails s\n",
    "  531* rails db:reset\n",
    "  532  rails s\n",
    "  534  rails g scaffold user_info destoroy\n",
    "  535  rails destroy scaffold user_info\n",
    "  537  rails g scaffold company name:string\n",
    "  538  rails g scaffold deppartment name:string company:references\n",
    "  539  rails g scaffold user_info company:references depertment:references user:references\n",
    "  541  rails db:migrate\n",
    "  542  rails db:reset\n",
    "  544  rails db:reset\n",
    "  545  rails db:migrate\n",
    "  546  rails s\n",
    "  552  rails db:migrate\n",
    "  554  rails s\n",
    "  555  rails destroy scaffold deppartment\n",
    "  556  rails g scaffold department name:string company:references\n",
    "  557  rails destroy scaffold user_infos\n",
    "  558  rails g scaffold user_info company:references department:references user:references\n",
    "  560  rails db:migrate\n",
    "  561  rails s\n",
    "  565* rails g scaffold comment content:string user:references \n",
    "  566  rails destroy scaffold comment\n",
    "  567  rails g scaffold problem user:references genre:references\n",
    "  568  rails g scaffold comment user:references problem:references\n",
    "  570  rails db:migrate\n",
    "  571  rails g scaffold enquete\n",
    "  572  rails g scaffold question answer_headline:string enquete_headline:string\n",
    "  573  rails g scaffold enquate_question enquate:references question:references\n",
    "  574  rails db:migrate\n",
    "  576  rails db\n",
    "  584  rails db:migrate\n",
    "  586  rails d scaffold enquate_question\n",
    "  587  rails g scaffold enquete_question enquete:references question:references\n",
    "  589  rails db:migrate\n",
    "  592  rails g scaffold answer question:references user:references problem:references company:references department:references content:string\n",
    "  593  rails db:migrate"
   ]
  },
  {
   "cell_type": "code",
   "execution_count": null,
   "metadata": {},
   "outputs": [],
   "source": []
  },
  {
   "cell_type": "code",
   "execution_count": 142,
   "metadata": {},
   "outputs": [],
   "source": [
    "import os\n",
    "os.environ[\"GOOGLE_APPLICATION_CREDENTIALS\"]='/Users/onosawa/Downloads/machine-learning-234808-76319dafe8ce.json'"
   ]
  },
  {
   "cell_type": "code",
   "execution_count": 143,
   "metadata": {},
   "outputs": [],
   "source": [
    "import os\n",
    "from google.cloud import storage\n",
    "client = storage.Client()"
   ]
  },
  {
   "cell_type": "code",
   "execution_count": 146,
   "metadata": {},
   "outputs": [],
   "source": [
    "bucket = client.get_bucket('help-api')"
   ]
  },
  {
   "cell_type": "code",
   "execution_count": 149,
   "metadata": {},
   "outputs": [],
   "source": [
    "blob = bucket.blob('help/test.jpg')\n",
    "blob.upload_from_filename(filename='/Users/onosawa/Downloads/board-361516_640.jpg')"
   ]
  },
  {
   "cell_type": "code",
   "execution_count": 150,
   "metadata": {},
   "outputs": [
    {
     "name": "stdout",
     "output_type": "stream",
     "text": [
      "<Blob: help-api, /help/test.jpg, 1584793356682331>\n",
      "<Blob: help-api, help/, 1584793350794082>\n",
      "<Blob: help-api, help/test.jpg, 1584793489374452>\n"
     ]
    }
   ],
   "source": [
    "for f in bucket.list_blobs():\n",
    "    print(f)"
   ]
  },
  {
   "cell_type": "code",
   "execution_count": null,
   "metadata": {},
   "outputs": [],
   "source": []
  }
 ],
 "metadata": {
  "kernelspec": {
   "display_name": "Python 3",
   "language": "python",
   "name": "python3"
  },
  "language_info": {
   "codemirror_mode": {
    "name": "ipython",
    "version": 3
   },
   "file_extension": ".py",
   "mimetype": "text/x-python",
   "name": "python",
   "nbconvert_exporter": "python",
   "pygments_lexer": "ipython3",
   "version": "3.7.7"
  }
 },
 "nbformat": 4,
 "nbformat_minor": 2
}
